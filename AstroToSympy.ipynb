{
 "cells": [
  {
   "cell_type": "code",
   "execution_count": 734,
   "id": "7a6fef71",
   "metadata": {
    "ExecuteTime": {
     "end_time": "2021-06-06T15:25:21.978765Z",
     "start_time": "2021-06-06T15:25:21.964176Z"
    }
   },
   "outputs": [],
   "source": [
    "import sympy.physics.units as su\n",
    "import astropy.units as u\n",
    "import scipy.constants as sc\n",
    "import numpy as np\n",
    "from sympy import Float \n",
    "from sympy.physics.units.systems.si import dimsys_SI\n",
    "si = [su.meter,su.kilogram,su.second,su.ampere,su.candela,su.kelvin,su.mole]"
   ]
  },
  {
   "cell_type": "code",
   "execution_count": 913,
   "id": "e8eb1e56",
   "metadata": {
    "ExecuteTime": {
     "end_time": "2021-06-06T15:55:49.663393Z",
     "start_time": "2021-06-06T15:55:49.650429Z"
    }
   },
   "outputs": [],
   "source": [
    "def toNatural(quantity,factors = False):\n",
    "    con = factors\n",
    "    qu = su.convert_to(quantity,si)\n",
    "    t1 = su.convert_to(qu, [su.electric_constant,su.electronvolts,su.boltzmann_constant,su.hbar,su.speed_of_light]).n()\n",
    "    if con==True:\n",
    "        return t1\n",
    "    elif con==False :\n",
    "        t2 = str(t1)\n",
    "        t2 = t2.replace('electric_constant','1')\n",
    "        t2 = t2.replace('boltzmann_constant','1')\n",
    "        t2 = t2.replace('hbar','1')\n",
    "        t2 = t2.replace('speed_of_light','1')\n",
    "        t2 = t2.replace('electronvolt','su.electronvolt')\n",
    "        t2 = eval(t2)\n",
    "        return t2\n",
    "#Float(t2.args[0],4)*t2.args[1]"
   ]
  },
  {
   "cell_type": "code",
   "execution_count": 914,
   "id": "bac0f1ba",
   "metadata": {
    "ExecuteTime": {
     "end_time": "2021-06-06T15:55:49.929125Z",
     "start_time": "2021-06-06T15:55:49.913507Z"
    }
   },
   "outputs": [],
   "source": [
    "def decompose(x):\n",
    "    y = x.si.decompose()\n",
    "    y = str(y)\n",
    "    temp = y.split(\" \")[0]\n",
    "    try :\n",
    "        val = float(temp)\n",
    "    except :\n",
    "        val = 1.0    \n",
    "    y = y.replace(str(val),' ')\n",
    "    y = u.Unit(y)\n",
    "    return val*y"
   ]
  },
  {
   "cell_type": "code",
   "execution_count": 915,
   "id": "94c684b4",
   "metadata": {
    "ExecuteTime": {
     "end_time": "2021-06-06T15:55:50.148293Z",
     "start_time": "2021-06-06T15:55:50.132335Z"
    }
   },
   "outputs": [],
   "source": [
    "def toString(x):\n",
    "    x = decompose(x)\n",
    "    val = x.value\n",
    "    x = f\"{(1*x).unit:FITS}\"\n",
    "    temp = x.split(\" \")\n",
    "    print(x)\n",
    "    temp2 = []\n",
    "    for i in temp :\n",
    "        try :\n",
    "            temp3 = (re.findall(r'-?\\d+', i))[0]\n",
    "        except :\n",
    "            temp3 = '1'\n",
    "        temp2.append([i.replace(temp3,' '),temp3])\n",
    "    return val,temp2"
   ]
  },
  {
   "cell_type": "code",
   "execution_count": 916,
   "id": "5dcbccbf",
   "metadata": {
    "ExecuteTime": {
     "end_time": "2021-06-06T15:55:50.368187Z",
     "start_time": "2021-06-06T15:55:50.357368Z"
    }
   },
   "outputs": [],
   "source": [
    "def composetoSympy(x) :\n",
    "    magnitude = x[0]\n",
    "    unitlist = x[1]\n",
    "    u = 1.0\n",
    "    for i in unitlist :\n",
    "        u = u * eval('su.'+ i[0] + '**' + i[1]) \n",
    "    return magnitude*u    "
   ]
  },
  {
   "cell_type": "code",
   "execution_count": 917,
   "id": "6d54cac9",
   "metadata": {
    "ExecuteTime": {
     "end_time": "2021-06-06T15:55:51.121075Z",
     "start_time": "2021-06-06T15:55:51.110622Z"
    }
   },
   "outputs": [],
   "source": [
    "def toAstropy(x):\n",
    "    splitstr = str(x).split('**')\n",
    "    try :\n",
    "        split2 = splitstr[0].split('*')\n",
    "        return eval(split2[0])* eval('u.' + split2[1] )\n",
    "    except :\n",
    "        split2 = splitstr[0].split('/')\n",
    "        return eval(split2[0])/ eval('u.' + split2[1] )"
   ]
  },
  {
   "cell_type": "code",
   "execution_count": 918,
   "id": "6bd2ab68",
   "metadata": {
    "ExecuteTime": {
     "end_time": "2021-06-06T15:55:51.840847Z",
     "start_time": "2021-06-06T15:55:51.819907Z"
    }
   },
   "outputs": [
    {
     "name": "stdout",
     "output_type": "stream",
     "text": [
      "K kg-1\n"
     ]
    },
    {
     "data": {
      "text/plain": [
       "(1.0, [['K', '1'], ['kg ', '-1']])"
      ]
     },
     "execution_count": 918,
     "metadata": {},
     "output_type": "execute_result"
    }
   ],
   "source": [
    "q1 = u.K * u.kg**-1\n",
    "toString(q1)"
   ]
  },
  {
   "cell_type": "code",
   "execution_count": 919,
   "id": "fb55f417",
   "metadata": {
    "ExecuteTime": {
     "end_time": "2021-06-06T15:55:52.341913Z",
     "start_time": "2021-06-06T15:55:52.311925Z"
    },
    "scrolled": false
   },
   "outputs": [
    {
     "name": "stdout",
     "output_type": "stream",
     "text": [
      "kg m3 s-2\n"
     ]
    },
    {
     "data": {
      "text/plain": [
       "(6.729141862799999e-14, [['kg', '1'], ['m ', '3'], ['s ', '-2']])"
      ]
     },
     "execution_count": 919,
     "metadata": {},
     "output_type": "execute_result"
    }
   ],
   "source": [
    "q2 = 42 * u.MeV * u.cm\n",
    "toString(q2)"
   ]
  },
  {
   "cell_type": "code",
   "execution_count": 921,
   "id": "3cd27c0f",
   "metadata": {
    "ExecuteTime": {
     "end_time": "2021-06-06T15:55:57.061029Z",
     "start_time": "2021-06-06T15:55:56.991886Z"
    }
   },
   "outputs": [
    {
     "name": "stdout",
     "output_type": "stream",
     "text": [
      "kg-1 m-2 s2\n"
     ]
    },
    {
     "data": {
      "text/plain": [
       "(6241509074460.764, [['kg ', '-1'], ['m ', '-2'], ['s ', '2']])"
      ]
     },
     "execution_count": 921,
     "metadata": {},
     "output_type": "execute_result"
    }
   ],
   "source": [
    "q3 = 1 / u.MeV\n",
    "toString(q3)"
   ]
  },
  {
   "cell_type": "code",
   "execution_count": 922,
   "id": "bca12f58",
   "metadata": {
    "ExecuteTime": {
     "end_time": "2021-06-06T15:55:58.065727Z",
     "start_time": "2021-06-06T15:55:57.945289Z"
    }
   },
   "outputs": [
    {
     "name": "stdout",
     "output_type": "stream",
     "text": [
      "A cd K kg m mol s\n"
     ]
    },
    {
     "data": {
      "text/plain": [
       "(1.0,\n",
       " [['A', '1'],\n",
       "  ['cd', '1'],\n",
       "  ['K', '1'],\n",
       "  ['kg', '1'],\n",
       "  ['m', '1'],\n",
       "  ['mol', '1'],\n",
       "  ['s', '1']])"
      ]
     },
     "execution_count": 922,
     "metadata": {},
     "output_type": "execute_result"
    }
   ],
   "source": [
    "q4 =  u.s * u.kg * u.m * u.A * u.candela *u.Kelvin *u.mole\n",
    "toString(q4)"
   ]
  },
  {
   "cell_type": "code",
   "execution_count": 901,
   "id": "202085cf",
   "metadata": {
    "ExecuteTime": {
     "end_time": "2021-06-06T15:55:05.685270Z",
     "start_time": "2021-06-06T15:55:05.676297Z"
    }
   },
   "outputs": [
    {
     "name": "stdout",
     "output_type": "stream",
     "text": [
      "m\n"
     ]
    }
   ],
   "source": [
    "s = composetoSympy(toString(u.m**1))"
   ]
  },
  {
   "cell_type": "code",
   "execution_count": 929,
   "id": "7e1d80bc",
   "metadata": {
    "ExecuteTime": {
     "end_time": "2021-06-06T16:51:03.285336Z",
     "start_time": "2021-06-06T16:51:03.270377Z"
    }
   },
   "outputs": [],
   "source": [
    "test = np.array([1,2,3])"
   ]
  },
  {
   "cell_type": "code",
   "execution_count": 930,
   "id": "1eb85816",
   "metadata": {
    "ExecuteTime": {
     "end_time": "2021-06-06T16:51:14.424510Z",
     "start_time": "2021-06-06T16:51:14.404562Z"
    }
   },
   "outputs": [
    {
     "data": {
      "text/plain": [
       "array([1])"
      ]
     },
     "execution_count": 930,
     "metadata": {},
     "output_type": "execute_result"
    }
   ],
   "source": [
    "test[test==1]"
   ]
  },
  {
   "cell_type": "code",
   "execution_count": 924,
   "id": "9338cd1d",
   "metadata": {
    "ExecuteTime": {
     "end_time": "2021-06-06T15:56:05.415219Z",
     "start_time": "2021-06-06T15:56:05.389995Z"
    }
   },
   "outputs": [],
   "source": [
    "f=toNatural(s)"
   ]
  },
  {
   "cell_type": "code",
   "execution_count": 925,
   "id": "2221c302",
   "metadata": {
    "ExecuteTime": {
     "end_time": "2021-06-06T15:56:06.280030Z",
     "start_time": "2021-06-06T15:56:06.263556Z"
    }
   },
   "outputs": [
    {
     "data": {
      "text/latex": [
       "$\\displaystyle \\frac{5067730.71615639}{\\text{eV}}$"
      ],
      "text/plain": [
       "5067730.71615639/electronvolt"
      ]
     },
     "execution_count": 925,
     "metadata": {},
     "output_type": "execute_result"
    }
   ],
   "source": [
    "f"
   ]
  },
  {
   "cell_type": "code",
   "execution_count": 926,
   "id": "d1b5c232",
   "metadata": {
    "ExecuteTime": {
     "end_time": "2021-06-06T15:56:06.771375Z",
     "start_time": "2021-06-06T15:56:06.762398Z"
    }
   },
   "outputs": [
    {
     "data": {
      "text/plain": [
       "['5067730.71615639/electronvolt']"
      ]
     },
     "execution_count": 926,
     "metadata": {},
     "output_type": "execute_result"
    }
   ],
   "source": [
    "str(f).split('**')"
   ]
  },
  {
   "cell_type": "code",
   "execution_count": 927,
   "id": "99b559f7",
   "metadata": {
    "ExecuteTime": {
     "end_time": "2021-06-06T15:56:07.616097Z",
     "start_time": "2021-06-06T15:56:07.602130Z"
    }
   },
   "outputs": [
    {
     "data": {
      "text/latex": [
       "$5067730.7 \\; \\mathrm{\\frac{1}{eV}}$"
      ],
      "text/plain": [
       "<Quantity 5067730.71615639 1 / eV>"
      ]
     },
     "execution_count": 927,
     "metadata": {},
     "output_type": "execute_result"
    }
   ],
   "source": [
    "toAstropy(f)"
   ]
  }
 ],
 "metadata": {
  "kernelspec": {
   "display_name": "Python 3",
   "language": "python",
   "name": "python3"
  },
  "language_info": {
   "codemirror_mode": {
    "name": "ipython",
    "version": 3
   },
   "file_extension": ".py",
   "mimetype": "text/x-python",
   "name": "python",
   "nbconvert_exporter": "python",
   "pygments_lexer": "ipython3",
   "version": "3.9.5"
  },
  "toc": {
   "base_numbering": 1,
   "nav_menu": {},
   "number_sections": true,
   "sideBar": true,
   "skip_h1_title": false,
   "title_cell": "Table of Contents",
   "title_sidebar": "Contents",
   "toc_cell": false,
   "toc_position": {},
   "toc_section_display": true,
   "toc_window_display": false
  },
  "varInspector": {
   "cols": {
    "lenName": 16,
    "lenType": 16,
    "lenVar": 40
   },
   "kernels_config": {
    "python": {
     "delete_cmd_postfix": "",
     "delete_cmd_prefix": "del ",
     "library": "var_list.py",
     "varRefreshCmd": "print(var_dic_list())"
    },
    "r": {
     "delete_cmd_postfix": ") ",
     "delete_cmd_prefix": "rm(",
     "library": "var_list.r",
     "varRefreshCmd": "cat(var_dic_list()) "
    }
   },
   "types_to_exclude": [
    "module",
    "function",
    "builtin_function_or_method",
    "instance",
    "_Feature"
   ],
   "window_display": false
  }
 },
 "nbformat": 4,
 "nbformat_minor": 5
}
