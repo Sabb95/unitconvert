{
 "cells": [
  {
   "cell_type": "code",
   "execution_count": 10,
   "id": "25596ee4",
   "metadata": {
    "ExecuteTime": {
     "end_time": "2021-09-28T08:30:24.804079Z",
     "start_time": "2021-09-28T08:30:24.793109Z"
    }
   },
   "outputs": [],
   "source": [
    "import astropy.units as u\n",
    "import astropy.constants as acon\n",
    "import numpy as np\n",
    "import sympy as sp\n",
    "from sympy.solvers.solveset import linsolve\n",
    "from collections import defaultdict\n",
    "si = {0 : u.kg , 1:  u.m , 2: u.s, 3 :u.Kelvin, 4 : u.A,5 : u.mol, 6: u.cd, 7: u.rad}\n",
    "\n",
    "def getdim(q):\n",
    "    q = q*1\n",
    "    q = q.si.decompose()\n",
    "    sb = q.unit.bases\n",
    "    sp = q.unit.powers\n",
    "    dictdim = defaultdict(lambda : 0)\n",
    "    for i in range(len(sb)):\n",
    "        dictdim[sb[i]] = sp[i]\n",
    "    return dictdim"
   ]
  },
  {
   "cell_type": "code",
   "execution_count": 11,
   "id": "1f0e13ca",
   "metadata": {
    "ExecuteTime": {
     "end_time": "2021-09-28T08:30:51.459091Z",
     "start_time": "2021-09-28T08:30:51.453108Z"
    }
   },
   "outputs": [],
   "source": [
    "constants = [acon.c, acon.hbar, acon.k_B, acon.eps0]\n",
    "units = [u.eV,u.mol,u.cd,u.rad]\n",
    "targetunits = constants + units"
   ]
  },
  {
   "cell_type": "code",
   "execution_count": 3,
   "id": "e4c2eae6",
   "metadata": {
    "ExecuteTime": {
     "end_time": "2021-09-28T08:32:53.307999Z",
     "start_time": "2021-09-28T08:32:53.287022Z"
    }
   },
   "outputs": [],
   "source": [
    "constants = [4*np.pi*acon.eps0]\n",
    "units = [u.kg,u.m,u.s,u.K,u.mol,u.cd,u.rad]\n",
    "targetunits = constants + units"
   ]
  },
  {
   "cell_type": "code",
   "execution_count": 12,
   "id": "d4b0fbaf",
   "metadata": {
    "ExecuteTime": {
     "end_time": "2021-09-28T08:32:54.628630Z",
     "start_time": "2021-09-28T08:32:54.617417Z"
    }
   },
   "outputs": [],
   "source": [
    "# This generates a dictionary that has the dimensions of the constants + units of the new unit system\n",
    "rhsdict = defaultdict(lambda: 0)\n",
    "for i in range(len(targetunits)):\n",
    "    rhsdict[i] = getdim(targetunits[i])\n",
    "    \n",
    "def findtotal(t) :\n",
    "    total = 0\n",
    "    for i in range(len(targetunits)) :\n",
    "        total = total + eval('r'+str(i+1))* rhsdict[i][t]\n",
    "    return total\n",
    "\n",
    "# Generating the variables r1, r2, r3... and e1,e2,e3... which are the exponents of the constants on RHS\n",
    "for i in range(len(targetunits)) :\n",
    "    globals()['r'+str(i+1)] = sp.symbols('r'+str(i+1))\n",
    "    \n",
    "for j in range(len(si)) :\n",
    "    globals()['e'+str(j+1)] = findtotal(si[j])\n",
    "\n",
    "# Generating the variables l1, l2, l3... which are the exponents of the constants on LHS\n",
    "for i in range(len(targetunits)) :\n",
    "    globals()['l'+str(i+1)] = sp.symbols('l'+str(i+1))"
   ]
  },
  {
   "cell_type": "code",
   "execution_count": 13,
   "id": "e45178e7",
   "metadata": {
    "ExecuteTime": {
     "end_time": "2021-09-28T08:32:55.022104Z",
     "start_time": "2021-09-28T08:32:55.008146Z"
    }
   },
   "outputs": [],
   "source": [
    "equations = [e1 - l1 , e2 - l2 , e3 - l3 , e4 - l4 , e5 - l5 , e6 - l6 , e7 - l7 , e8 - l8]"
   ]
  },
  {
   "cell_type": "code",
   "execution_count": 14,
   "id": "82a90cc1",
   "metadata": {
    "ExecuteTime": {
     "end_time": "2021-09-28T08:32:55.318768Z",
     "start_time": "2021-09-28T08:32:55.310790Z"
    }
   },
   "outputs": [],
   "source": [
    "sol = linsolve(equations,(r1,r2,r3,r4,r5,r6,r7,r8))\n",
    "solns = eval(str(sol.args[0]))\n",
    "solncons = solns[0:(len(constants))]\n",
    "solnunits = solns[len(constants) :] "
   ]
  },
  {
   "cell_type": "code",
   "execution_count": 15,
   "id": "4c9ea141",
   "metadata": {
    "ExecuteTime": {
     "end_time": "2021-09-28T08:32:56.473798Z",
     "start_time": "2021-09-28T08:32:56.454494Z"
    }
   },
   "outputs": [],
   "source": [
    "def convfactor(q):\n",
    "    dimdict = getdim(q)\n",
    "    a1 = dimdict[u.kg]\n",
    "    a2 = dimdict[u.m]\n",
    "    a3 = dimdict[u.s]\n",
    "    a4 = dimdict[u.K]\n",
    "    a5 = dimdict[u.A]\n",
    "    a6 = dimdict[u.mol]\n",
    "    a7 = dimdict[u.cd]\n",
    "    a8 = dimdict[u.rad]\n",
    "    factor = 1\n",
    "    returnunits = 1\n",
    "    for i in range(len(constants)):\n",
    "        factor = factor * constants[i]**float(solncons[i].subs(l1,a1).subs(l2,a2).subs(l3,a3).subs(l4,a4).subs(l5,a5).subs(l6,a6).subs(l7,a7).subs(l8,a8))\n",
    "    for i in range(len(units)):\n",
    "        returnunits = returnunits * units[i]**float(solnunits[i].subs(l1,a1).subs(l2,a2).subs(l3,a3).subs(l4,a4).subs(l5,a5).subs(l6,a6).subs(l7,a7).subs(l8,a8))\n",
    "    return factor, returnunits"
   ]
  },
  {
   "cell_type": "code",
   "execution_count": 16,
   "id": "5b6bd7ba",
   "metadata": {
    "ExecuteTime": {
     "end_time": "2021-09-28T08:32:58.585643Z",
     "start_time": "2021-09-28T08:32:58.568677Z"
    }
   },
   "outputs": [],
   "source": [
    "def convert(q):\n",
    "    f,r = convfactor(q)\n",
    "    return (q/f).to(r)"
   ]
  },
  {
   "cell_type": "code",
   "execution_count": 18,
   "id": "ca3624a3",
   "metadata": {
    "ExecuteTime": {
     "end_time": "2021-09-28T08:35:10.070791Z",
     "start_time": "2021-09-28T08:35:10.060783Z"
    }
   },
   "outputs": [
    {
     "data": {
      "text/latex": [
       "$1.890067 \\times 10^{18} \\; \\mathrm{}$"
      ],
      "text/plain": [
       "<Quantity 1.89006702e+18>"
      ]
     },
     "execution_count": 18,
     "metadata": {},
     "output_type": "execute_result"
    }
   ],
   "source": [
    "convert(u.C)"
   ]
  },
  {
   "cell_type": "code",
   "execution_count": null,
   "id": "61464169",
   "metadata": {},
   "outputs": [],
   "source": []
  }
 ],
 "metadata": {
  "kernelspec": {
   "display_name": "Python 3 (ipykernel)",
   "language": "python",
   "name": "python3"
  },
  "language_info": {
   "codemirror_mode": {
    "name": "ipython",
    "version": 3
   },
   "file_extension": ".py",
   "mimetype": "text/x-python",
   "name": "python",
   "nbconvert_exporter": "python",
   "pygments_lexer": "ipython3",
   "version": "3.9.7"
  },
  "toc": {
   "base_numbering": 1,
   "nav_menu": {},
   "number_sections": true,
   "sideBar": true,
   "skip_h1_title": false,
   "title_cell": "Table of Contents",
   "title_sidebar": "Contents",
   "toc_cell": false,
   "toc_position": {},
   "toc_section_display": true,
   "toc_window_display": false
  },
  "varInspector": {
   "cols": {
    "lenName": 16,
    "lenType": 16,
    "lenVar": 40
   },
   "kernels_config": {
    "python": {
     "delete_cmd_postfix": "",
     "delete_cmd_prefix": "del ",
     "library": "var_list.py",
     "varRefreshCmd": "print(var_dic_list())"
    },
    "r": {
     "delete_cmd_postfix": ") ",
     "delete_cmd_prefix": "rm(",
     "library": "var_list.r",
     "varRefreshCmd": "cat(var_dic_list()) "
    }
   },
   "types_to_exclude": [
    "module",
    "function",
    "builtin_function_or_method",
    "instance",
    "_Feature"
   ],
   "window_display": false
  }
 },
 "nbformat": 4,
 "nbformat_minor": 5
}
